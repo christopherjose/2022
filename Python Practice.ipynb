{
 "cells": [
  {
   "cell_type": "markdown",
   "id": "5c8b9d22",
   "metadata": {},
   "source": [
    "## Classes in Python"
   ]
  },
  {
   "cell_type": "code",
   "execution_count": 75,
   "id": "514ff460",
   "metadata": {},
   "outputs": [],
   "source": [
    "class Gnome(object):\n",
    "    def __init__(self, name):\n",
    "        self.name = name\n",
    "        self.is_alive = True #member attri/var; available for all classes\n",
    "        \n",
    "    def run(self):\n",
    "        print(self.name + \" is running...\")\n",
    "        \n",
    "    def zombie_status(self):\n",
    "        if(self.is_alive == True):\n",
    "            print(self.name + \" is alive n' kickin'\")\n",
    "        else:\n",
    "            print(self.name + \" is zombie status and needs victims\")\n",
    "       "
   ]
  },
  {
   "cell_type": "code",
   "execution_count": 85,
   "id": "501ee750",
   "metadata": {},
   "outputs": [
    {
     "name": "stdout",
     "output_type": "stream",
     "text": [
      "pasta\n",
      "carl\n",
      "carl is running...\n",
      "carl is zombie status and needs victims\n",
      "bob is alive n' kickin'\n",
      "4\n"
     ]
    }
   ],
   "source": [
    "g1 = Gnome(\"carl\")\n",
    "g1.is_alive = False  \n",
    "g1.favorite_food = \"pasta\" #add instance attribute to instance\n",
    "print(g1.favorite_food)\n",
    "print(g1.name)\n",
    "g1.run()\n",
    "g1.zombie_status()\n",
    "\n",
    "g2 = Gnome(\"bob\")\n",
    "g2.zombie_status()\n",
    "\n",
    "Gnome.height=4       #add member attribute to all instances\n",
    "print(g1.height)"
   ]
  },
  {
   "cell_type": "code",
   "execution_count": 98,
   "id": "2b380565",
   "metadata": {},
   "outputs": [
    {
     "name": "stdout",
     "output_type": "stream",
     "text": [
      "Alfred can't become a zombie!\n",
      "Alfred is alive n' kickin'\n"
     ]
    }
   ],
   "source": [
    "# inheritance: inherit from one class\n",
    "class Creature(object):\n",
    "    pass\n",
    "\n",
    "# child class inherits from parent class\n",
    "class Orc(Creature): \n",
    "    pass\n",
    "\n",
    "# multiple inheritance: inherit from multiple classes\n",
    "class GnomeOrc(Gnome,Orc):\n",
    "    def zombie_status(self):\n",
    "        print(self.name + \" can't become a zombie!\")\n",
    "        \n",
    "    #Access original method from parent class\n",
    "    def orig_zombie_status(self):\n",
    "        return super(GnomeOrc,self).zombie_status()\n",
    "\n",
    "go1 = GnomeOrc(\"Alfred\")\n",
    "go1.zombie_status()\n",
    "go1.orig_zombie_status()"
   ]
  },
  {
   "cell_type": "code",
   "execution_count": 107,
   "id": "30f9fe51",
   "metadata": {
    "collapsed": true
   },
   "outputs": [
    {
     "data": {
      "text/plain": [
       "['ArithmeticError',\n",
       " 'AssertionError',\n",
       " 'AttributeError',\n",
       " 'BaseException',\n",
       " 'BlockingIOError',\n",
       " 'BrokenPipeError',\n",
       " 'BufferError',\n",
       " 'BytesWarning',\n",
       " 'ChildProcessError',\n",
       " 'ConnectionAbortedError',\n",
       " 'ConnectionError',\n",
       " 'ConnectionRefusedError',\n",
       " 'ConnectionResetError',\n",
       " 'DeprecationWarning',\n",
       " 'EOFError',\n",
       " 'Ellipsis',\n",
       " 'EnvironmentError',\n",
       " 'Exception',\n",
       " 'False',\n",
       " 'FileExistsError',\n",
       " 'FileNotFoundError',\n",
       " 'FloatingPointError',\n",
       " 'FutureWarning',\n",
       " 'GeneratorExit',\n",
       " 'IOError',\n",
       " 'ImportError',\n",
       " 'ImportWarning',\n",
       " 'IndentationError',\n",
       " 'IndexError',\n",
       " 'InterruptedError',\n",
       " 'IsADirectoryError',\n",
       " 'KeyError',\n",
       " 'KeyboardInterrupt',\n",
       " 'LookupError',\n",
       " 'MemoryError',\n",
       " 'ModuleNotFoundError',\n",
       " 'NameError',\n",
       " 'None',\n",
       " 'NotADirectoryError',\n",
       " 'NotImplemented',\n",
       " 'NotImplementedError',\n",
       " 'OSError',\n",
       " 'OverflowError',\n",
       " 'PendingDeprecationWarning',\n",
       " 'PermissionError',\n",
       " 'ProcessLookupError',\n",
       " 'RecursionError',\n",
       " 'ReferenceError',\n",
       " 'ResourceWarning',\n",
       " 'RuntimeError',\n",
       " 'RuntimeWarning',\n",
       " 'StopAsyncIteration',\n",
       " 'StopIteration',\n",
       " 'SyntaxError',\n",
       " 'SyntaxWarning',\n",
       " 'SystemError',\n",
       " 'SystemExit',\n",
       " 'TabError',\n",
       " 'TimeoutError',\n",
       " 'True',\n",
       " 'TypeError',\n",
       " 'UnboundLocalError',\n",
       " 'UnicodeDecodeError',\n",
       " 'UnicodeEncodeError',\n",
       " 'UnicodeError',\n",
       " 'UnicodeTranslateError',\n",
       " 'UnicodeWarning',\n",
       " 'UserWarning',\n",
       " 'ValueError',\n",
       " 'Warning',\n",
       " 'ZeroDivisionError',\n",
       " '__IPYTHON__',\n",
       " '__build_class__',\n",
       " '__debug__',\n",
       " '__doc__',\n",
       " '__import__',\n",
       " '__loader__',\n",
       " '__name__',\n",
       " '__package__',\n",
       " '__spec__',\n",
       " 'abs',\n",
       " 'all',\n",
       " 'any',\n",
       " 'ascii',\n",
       " 'bin',\n",
       " 'bool',\n",
       " 'breakpoint',\n",
       " 'bytearray',\n",
       " 'bytes',\n",
       " 'callable',\n",
       " 'chr',\n",
       " 'classmethod',\n",
       " 'compile',\n",
       " 'complex',\n",
       " 'copyright',\n",
       " 'credits',\n",
       " 'delattr',\n",
       " 'dict',\n",
       " 'dir',\n",
       " 'display',\n",
       " 'divmod',\n",
       " 'enumerate',\n",
       " 'eval',\n",
       " 'exec',\n",
       " 'execfile',\n",
       " 'filter',\n",
       " 'float',\n",
       " 'format',\n",
       " 'frozenset',\n",
       " 'get_ipython',\n",
       " 'getattr',\n",
       " 'globals',\n",
       " 'hasattr',\n",
       " 'hash',\n",
       " 'help',\n",
       " 'hex',\n",
       " 'id',\n",
       " 'input',\n",
       " 'int',\n",
       " 'isinstance',\n",
       " 'issubclass',\n",
       " 'iter',\n",
       " 'len',\n",
       " 'license',\n",
       " 'list',\n",
       " 'locals',\n",
       " 'map',\n",
       " 'max',\n",
       " 'memoryview',\n",
       " 'min',\n",
       " 'next',\n",
       " 'object',\n",
       " 'oct',\n",
       " 'open',\n",
       " 'ord',\n",
       " 'pow',\n",
       " 'print',\n",
       " 'property',\n",
       " 'range',\n",
       " 'repr',\n",
       " 'reversed',\n",
       " 'round',\n",
       " 'runfile',\n",
       " 'set',\n",
       " 'setattr',\n",
       " 'slice',\n",
       " 'sorted',\n",
       " 'staticmethod',\n",
       " 'str',\n",
       " 'sum',\n",
       " 'super',\n",
       " 'tuple',\n",
       " 'type',\n",
       " 'vars',\n",
       " 'zip']"
      ]
     },
     "execution_count": 107,
     "metadata": {},
     "output_type": "execute_result"
    }
   ],
   "source": [
    "#Namespaces are dictionaries with keys as names, values as objects\n",
    "\n",
    "#built-in namespace of names for all built-in python objects\n",
    "dir(__builtins__) "
   ]
  },
  {
   "cell_type": "code",
   "execution_count": 118,
   "id": "7f48af07",
   "metadata": {},
   "outputs": [
    {
     "name": "stdout",
     "output_type": "stream",
     "text": [
      "Shimzorg's fire score is: 5\n"
     ]
    }
   ],
   "source": [
    "class Dragons(object):\n",
    "    def __init__(self, fire_score,name):\n",
    "        self.fire_score = fire_score\n",
    "        self.name = name\n",
    "    def fire_score1(self):\n",
    "        print(self.name+\"'s fire score is: \"+str(self.fire_score))\n",
    "        \n",
    "shimzorg = Dragons(5,\"Shimzorg\")\n",
    "shimzorg.fire_score1()"
   ]
  },
  {
   "cell_type": "markdown",
   "id": "4d47533e",
   "metadata": {},
   "source": [
    "## While Loop"
   ]
  },
  {
   "cell_type": "code",
   "execution_count": 10,
   "id": "c91bde07",
   "metadata": {
    "collapsed": true
   },
   "outputs": [
    {
     "name": "stdout",
     "output_type": "stream",
     "text": [
      "4\n",
      "3\n",
      "2\n",
      "1\n"
     ]
    }
   ],
   "source": [
    "loop_condition = True\n",
    "y= 5\n",
    "while (y!=loop_condition):\n",
    "    if (y > 0):\n",
    "        y-=1\n",
    "    else:\n",
    "        y = 0\n",
    "    print(y)"
   ]
  },
  {
   "cell_type": "code",
   "execution_count": 19,
   "id": "547c8594",
   "metadata": {
    "collapsed": true
   },
   "outputs": [
    {
     "name": "stdout",
     "output_type": "stream",
     "text": [
      "4\n",
      "3\n",
      "2\n",
      "1\n"
     ]
    }
   ],
   "source": [
    "z=5\n",
    "while (z!=loop_condition):\n",
    "    if (z>0):\n",
    "        z-=1\n",
    "    if (z<0):\n",
    "        z=loop_condition\n",
    "    print(z)"
   ]
  },
  {
   "cell_type": "code",
   "execution_count": 21,
   "id": "46bf3359",
   "metadata": {
    "collapsed": true
   },
   "outputs": [
    {
     "name": "stdout",
     "output_type": "stream",
     "text": [
      "6\n",
      "7\n",
      "8\n",
      "9\n",
      "10\n",
      "11\n",
      "done\n"
     ]
    }
   ],
   "source": [
    "z=5\n",
    "while (z!=loop_condition):\n",
    "    z+=1\n",
    "    print(z)\n",
    "    if(z>10):\n",
    "        z=loop_condition\n",
    "else:\n",
    "    print(\"done\")"
   ]
  },
  {
   "cell_type": "markdown",
   "id": "031226f9",
   "metadata": {},
   "source": [
    "## For Loop"
   ]
  },
  {
   "cell_type": "code",
   "execution_count": 39,
   "id": "89f6c764",
   "metadata": {
    "collapsed": true
   },
   "outputs": [
    {
     "name": "stdout",
     "output_type": "stream",
     "text": [
      "0\n",
      "1\n",
      "2\n",
      "h\n",
      "e\n",
      "l\n",
      "l\n",
      "o\n",
      "1\n",
      "2\n",
      "3\n",
      "a\n",
      "b\n",
      "c\n",
      "0 a\n",
      "1 b\n",
      "2 c\n",
      "1 3\n",
      "2 4\n",
      "1\n",
      "2\n",
      "3\n",
      "loop ended\n"
     ]
    }
   ],
   "source": [
    "for i in range(3):\n",
    "    print(i)\n",
    "\n",
    "for i in \"hello\":\n",
    "    print(i)\n",
    "\n",
    "d={'a':1,'b':2,'c':3}\n",
    "for i in d:\n",
    "    print(d[i])\n",
    "\n",
    "l = ['a','b','c']\n",
    "for i in l:\n",
    "    print(i)\n",
    "    \n",
    "for i,x in enumerate(l): #modifies list to have pairs (0, 'a')\n",
    "    print(i,x)\n",
    "\n",
    "for a,b in zip([1,2],[3,4]): #creates pairings from each list\n",
    "    print(a, b)\n",
    "    \n",
    "for i in [1,2,3]:\n",
    "    print(i)\n",
    "else: #executes at the end of the for loop\n",
    "    print(\"loop ended\")"
   ]
  },
  {
   "cell_type": "markdown",
   "id": "4811a626",
   "metadata": {},
   "source": [
    "## Lists"
   ]
  },
  {
   "cell_type": "code",
   "execution_count": 49,
   "id": "54bfb19e",
   "metadata": {},
   "outputs": [
    {
     "data": {
      "text/plain": [
       "[1, 3]"
      ]
     },
     "execution_count": 49,
     "metadata": {},
     "output_type": "execute_result"
    }
   ],
   "source": [
    "n = [1,2,3,4]\n",
    "n[0]\n",
    "len(n)\n",
    "n[1:3] # [2,3]\n",
    "n[:-2] #excludes last 2 indices => [1,2]\n",
    "n[2:] #includes entries 3 and up\n",
    "n[::2] "
   ]
  }
 ],
 "metadata": {
  "kernelspec": {
   "display_name": "Python 3 (ipykernel)",
   "language": "python",
   "name": "python3"
  },
  "language_info": {
   "codemirror_mode": {
    "name": "ipython",
    "version": 3
   },
   "file_extension": ".py",
   "mimetype": "text/x-python",
   "name": "python",
   "nbconvert_exporter": "python",
   "pygments_lexer": "ipython3",
   "version": "3.9.2"
  }
 },
 "nbformat": 4,
 "nbformat_minor": 5
}
